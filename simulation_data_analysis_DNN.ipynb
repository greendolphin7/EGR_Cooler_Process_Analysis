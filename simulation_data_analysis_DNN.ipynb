{
 "cells": [
  {
   "cell_type": "code",
   "execution_count": 1,
   "metadata": {},
   "outputs": [
    {
     "data": {
      "text/plain": [
       "'C:\\\\Users\\\\clubc\\\\Desktop\\\\스마트팩토리 프로젝트\\\\process_anlaysis\\\\simulation_data_model'"
      ]
     },
     "execution_count": 1,
     "metadata": {},
     "output_type": "execute_result"
    }
   ],
   "source": [
    "pwd"
   ]
  },
  {
   "cell_type": "code",
   "execution_count": 2,
   "metadata": {},
   "outputs": [],
   "source": [
    "import tensorflow as tf\n",
    "from keras.models import Sequential\n",
    "from keras.layers import Dense\n",
    "import numpy as np\n",
    "from keras.layers import BatchNormalization\n",
    "from keras.layers import Dropout"
   ]
  },
  {
   "cell_type": "code",
   "execution_count": 3,
   "metadata": {},
   "outputs": [
    {
     "data": {
      "text/plain": [
       "'2.3.0'"
      ]
     },
     "execution_count": 3,
     "metadata": {},
     "output_type": "execute_result"
    }
   ],
   "source": [
    "tf.__version__"
   ]
  },
  {
   "cell_type": "code",
   "execution_count": 5,
   "metadata": {},
   "outputs": [],
   "source": [
    "import pandas as pd\n",
    "import numpy as np\n",
    "seed = 0\n",
    "np.random.seed(seed)\n",
    "tf.random.set_seed(seed)"
   ]
  },
  {
   "cell_type": "code",
   "execution_count": 7,
   "metadata": {},
   "outputs": [],
   "source": [
    "dataset = pd.read_csv('./csv_data/2020_09_10_2107_1_elec89.99_temp489.99.csv')"
   ]
  },
  {
   "cell_type": "code",
   "execution_count": 8,
   "metadata": {},
   "outputs": [
    {
     "data": {
      "text/html": [
       "<div>\n",
       "<style scoped>\n",
       "    .dataframe tbody tr th:only-of-type {\n",
       "        vertical-align: middle;\n",
       "    }\n",
       "\n",
       "    .dataframe tbody tr th {\n",
       "        vertical-align: top;\n",
       "    }\n",
       "\n",
       "    .dataframe thead th {\n",
       "        text-align: right;\n",
       "    }\n",
       "</style>\n",
       "<table border=\"1\" class=\"dataframe\">\n",
       "  <thead>\n",
       "    <tr style=\"text-align: right;\">\n",
       "      <th></th>\n",
       "      <th>body_length</th>\n",
       "      <th>body_width</th>\n",
       "      <th>body_height</th>\n",
       "      <th>wavyfin_length</th>\n",
       "      <th>wavyfin_width</th>\n",
       "      <th>wavyfin_height</th>\n",
       "      <th>pipe1_length</th>\n",
       "      <th>pipe1_width</th>\n",
       "      <th>pipe1_height</th>\n",
       "      <th>pipe2_length</th>\n",
       "      <th>pipe2_width</th>\n",
       "      <th>pipe2_height</th>\n",
       "      <th>flange1_length</th>\n",
       "      <th>flange1_width</th>\n",
       "      <th>flange1_height</th>\n",
       "      <th>flange2_length</th>\n",
       "      <th>flange2_width</th>\n",
       "      <th>flange2_height</th>\n",
       "    </tr>\n",
       "  </thead>\n",
       "  <tbody>\n",
       "    <tr>\n",
       "      <th>0</th>\n",
       "      <td>200.0</td>\n",
       "      <td>100.0</td>\n",
       "      <td>50.00</td>\n",
       "      <td>100.0</td>\n",
       "      <td>50.0</td>\n",
       "      <td>60.0</td>\n",
       "      <td>30.00</td>\n",
       "      <td>50.0</td>\n",
       "      <td>29.99</td>\n",
       "      <td>30.0</td>\n",
       "      <td>50.0</td>\n",
       "      <td>30.00</td>\n",
       "      <td>30</td>\n",
       "      <td>80</td>\n",
       "      <td>40</td>\n",
       "      <td>30.0</td>\n",
       "      <td>80.0</td>\n",
       "      <td>40.00</td>\n",
       "    </tr>\n",
       "    <tr>\n",
       "      <th>1</th>\n",
       "      <td>200.0</td>\n",
       "      <td>100.0</td>\n",
       "      <td>50.00</td>\n",
       "      <td>100.0</td>\n",
       "      <td>50.0</td>\n",
       "      <td>60.0</td>\n",
       "      <td>30.00</td>\n",
       "      <td>50.0</td>\n",
       "      <td>30.00</td>\n",
       "      <td>30.0</td>\n",
       "      <td>50.0</td>\n",
       "      <td>29.99</td>\n",
       "      <td>30</td>\n",
       "      <td>80</td>\n",
       "      <td>40</td>\n",
       "      <td>30.0</td>\n",
       "      <td>80.0</td>\n",
       "      <td>40.00</td>\n",
       "    </tr>\n",
       "    <tr>\n",
       "      <th>2</th>\n",
       "      <td>200.0</td>\n",
       "      <td>100.0</td>\n",
       "      <td>50.00</td>\n",
       "      <td>100.0</td>\n",
       "      <td>50.0</td>\n",
       "      <td>60.0</td>\n",
       "      <td>29.99</td>\n",
       "      <td>50.0</td>\n",
       "      <td>30.00</td>\n",
       "      <td>30.0</td>\n",
       "      <td>50.0</td>\n",
       "      <td>30.00</td>\n",
       "      <td>30</td>\n",
       "      <td>80</td>\n",
       "      <td>40</td>\n",
       "      <td>30.0</td>\n",
       "      <td>80.0</td>\n",
       "      <td>40.01</td>\n",
       "    </tr>\n",
       "    <tr>\n",
       "      <th>3</th>\n",
       "      <td>200.0</td>\n",
       "      <td>100.0</td>\n",
       "      <td>50.01</td>\n",
       "      <td>100.0</td>\n",
       "      <td>50.0</td>\n",
       "      <td>60.0</td>\n",
       "      <td>30.00</td>\n",
       "      <td>50.0</td>\n",
       "      <td>30.00</td>\n",
       "      <td>30.0</td>\n",
       "      <td>50.0</td>\n",
       "      <td>30.00</td>\n",
       "      <td>30</td>\n",
       "      <td>80</td>\n",
       "      <td>40</td>\n",
       "      <td>30.0</td>\n",
       "      <td>80.0</td>\n",
       "      <td>40.00</td>\n",
       "    </tr>\n",
       "    <tr>\n",
       "      <th>4</th>\n",
       "      <td>200.0</td>\n",
       "      <td>100.0</td>\n",
       "      <td>50.01</td>\n",
       "      <td>100.0</td>\n",
       "      <td>50.0</td>\n",
       "      <td>60.0</td>\n",
       "      <td>30.00</td>\n",
       "      <td>50.0</td>\n",
       "      <td>30.00</td>\n",
       "      <td>30.0</td>\n",
       "      <td>50.0</td>\n",
       "      <td>30.00</td>\n",
       "      <td>30</td>\n",
       "      <td>80</td>\n",
       "      <td>40</td>\n",
       "      <td>30.0</td>\n",
       "      <td>80.0</td>\n",
       "      <td>40.00</td>\n",
       "    </tr>\n",
       "  </tbody>\n",
       "</table>\n",
       "</div>"
      ],
      "text/plain": [
       "   body_length  body_width  body_height  wavyfin_length  wavyfin_width  \\\n",
       "0        200.0       100.0        50.00           100.0           50.0   \n",
       "1        200.0       100.0        50.00           100.0           50.0   \n",
       "2        200.0       100.0        50.00           100.0           50.0   \n",
       "3        200.0       100.0        50.01           100.0           50.0   \n",
       "4        200.0       100.0        50.01           100.0           50.0   \n",
       "\n",
       "   wavyfin_height  pipe1_length  pipe1_width  pipe1_height  pipe2_length  \\\n",
       "0            60.0         30.00         50.0         29.99          30.0   \n",
       "1            60.0         30.00         50.0         30.00          30.0   \n",
       "2            60.0         29.99         50.0         30.00          30.0   \n",
       "3            60.0         30.00         50.0         30.00          30.0   \n",
       "4            60.0         30.00         50.0         30.00          30.0   \n",
       "\n",
       "   pipe2_width  pipe2_height  flange1_length  flange1_width  flange1_height  \\\n",
       "0         50.0         30.00              30             80              40   \n",
       "1         50.0         29.99              30             80              40   \n",
       "2         50.0         30.00              30             80              40   \n",
       "3         50.0         30.00              30             80              40   \n",
       "4         50.0         30.00              30             80              40   \n",
       "\n",
       "   flange2_length  flange2_width  flange2_height  \n",
       "0            30.0           80.0           40.00  \n",
       "1            30.0           80.0           40.00  \n",
       "2            30.0           80.0           40.01  \n",
       "3            30.0           80.0           40.00  \n",
       "4            30.0           80.0           40.00  "
      ]
     },
     "execution_count": 8,
     "metadata": {},
     "output_type": "execute_result"
    }
   ],
   "source": [
    "X = dataset.drop(['op60_time_stamp', 'op60_process_time', \n",
    "                   'op60_height', 'op60_width', 'op60_length', 'op60_test', \n",
    "                   'op50_time_stamp', 'op50_process_time', \n",
    "                   'op50_height', 'op50_width', 'op50_length', 'op50_temperature',\n",
    "                   'op40_time_stamp', 'op40_process_time', \n",
    "                   'op40_height', 'op40_width', 'op40_length', 'op40_temperature', 'op40_test',\n",
    "                   'op30_time_stamp', 'op30_process_time', \n",
    "                   'op30_height', 'op30_width', 'op30_length', 'op30_electricity_sensor', 'op30_test',\n",
    "                   'op20_time_stamp', 'op20_process_time', \n",
    "                   'op20_height', 'op20_width', 'op20_length', 'op20_electricity_sensor', 'op20_test',\n",
    "                   'op10_time_stamp', 'op10_process_time', \n",
    "                   'op10_height', 'op10_width', 'op10_length', 'op10_electricity_sensor', 'op10_test',\n",
    "                   'item_key'\n",
    "                  ], axis = 1)\n",
    "X.head()"
   ]
  },
  {
   "cell_type": "code",
   "execution_count": 9,
   "metadata": {},
   "outputs": [
    {
     "data": {
      "text/plain": [
       "0    0\n",
       "1    0\n",
       "2    1\n",
       "3    0\n",
       "4    0\n",
       "Name: op60_test, dtype: int64"
      ]
     },
     "execution_count": 9,
     "metadata": {},
     "output_type": "execute_result"
    }
   ],
   "source": [
    "y = dataset['op60_test']\n",
    "y.head()"
   ]
  },
  {
   "cell_type": "code",
   "execution_count": 13,
   "metadata": {},
   "outputs": [],
   "source": [
    "from sklearn.model_selection import train_test_split\n",
    "\n",
    "X_train, X_test, y_train, y_test = train_test_split(X, \n",
    "                                                    y, \n",
    "                                                    test_size=0.2, \n",
    "                                                    shuffle=False, \n",
    "                                                    random_state=1004)"
   ]
  },
  {
   "cell_type": "code",
   "execution_count": 21,
   "metadata": {},
   "outputs": [],
   "source": [
    "model = Sequential()\n",
    "model.add(Dense(50, input_dim=18, activation='relu'))\n",
    "model.add(Dense(30, input_dim=20, activation='relu'))\n",
    "model.add(Dense(10, input_dim=30, activation='relu'))\n",
    "model.add(Dense(1, activation='sigmoid'))"
   ]
  },
  {
   "cell_type": "code",
   "execution_count": 22,
   "metadata": {},
   "outputs": [],
   "source": [
    "model.compile(loss='binary_crossentropy', optimizer='adam', metrics=['accuracy'])"
   ]
  },
  {
   "cell_type": "code",
   "execution_count": 23,
   "metadata": {},
   "outputs": [
    {
     "name": "stdout",
     "output_type": "stream",
     "text": [
      "Epoch 1/10\n",
      "1151/1151 [==============================] - 3s 3ms/step - loss: 0.1455 - accuracy: 0.9752\n",
      "Epoch 2/10\n",
      "1151/1151 [==============================] - 3s 3ms/step - loss: 0.1257 - accuracy: 0.9752\n",
      "Epoch 3/10\n",
      "1151/1151 [==============================] - 3s 3ms/step - loss: 0.1232 - accuracy: 0.9752\n",
      "Epoch 4/10\n",
      "1151/1151 [==============================] - 3s 3ms/step - loss: 0.1212 - accuracy: 0.9752: \n",
      "Epoch 5/10\n",
      "1151/1151 [==============================] - 3s 3ms/step - loss: 0.1195 - accuracy: 0.9752\n",
      "Epoch 6/10\n",
      "1151/1151 [==============================] - 3s 3ms/step - loss: 0.1185 - accuracy: 0.9752\n",
      "Epoch 7/10\n",
      "1151/1151 [==============================] - 3s 3ms/step - loss: 0.1189 - accuracy: 0.9752\n",
      "Epoch 8/10\n",
      "1151/1151 [==============================] - 3s 2ms/step - loss: 0.1189 - accuracy: 0.9752\n",
      "Epoch 9/10\n",
      "1151/1151 [==============================] - 4s 3ms/step - loss: 0.1191 - accuracy: 0.9752\n",
      "Epoch 10/10\n",
      "1151/1151 [==============================] - 3s 3ms/step - loss: 0.1179 - accuracy: 0.9752\n"
     ]
    },
    {
     "data": {
      "text/plain": [
       "<tensorflow.python.keras.callbacks.History at 0x1ff159a2860>"
      ]
     },
     "execution_count": 23,
     "metadata": {},
     "output_type": "execute_result"
    }
   ],
   "source": [
    "model.fit(X_train, y_train, epochs=10, batch_size=10)"
   ]
  },
  {
   "cell_type": "code",
   "execution_count": 25,
   "metadata": {},
   "outputs": [
    {
     "data": {
      "text/plain": [
       "array([[0.0310564 ],\n",
       "       [0.03105462],\n",
       "       [0.03105462],\n",
       "       ...,\n",
       "       [0.03105462],\n",
       "       [0.03105462],\n",
       "       [0.03105462]], dtype=float32)"
      ]
     },
     "execution_count": 25,
     "metadata": {},
     "output_type": "execute_result"
    }
   ],
   "source": [
    "model.predict(X_test, batch_size=10, verbose=0, steps=None, callbacks=None)"
   ]
  },
  {
   "cell_type": "code",
   "execution_count": 26,
   "metadata": {},
   "outputs": [
    {
     "name": "stdout",
     "output_type": "stream",
     "text": [
      "90/90 [==============================] - 0s 2ms/step - loss: 0.0913 - accuracy: 0.9826\n",
      "0.9826\n"
     ]
    }
   ],
   "source": [
    "test_score, test_score = model.evaluate(X_test, y_test)\n",
    "\n",
    "print(round(test_score, 4))"
   ]
  },
  {
   "cell_type": "code",
   "execution_count": null,
   "metadata": {},
   "outputs": [],
   "source": []
  }
 ],
 "metadata": {
  "kernelspec": {
   "display_name": "Python 3",
   "language": "python",
   "name": "python3"
  },
  "language_info": {
   "codemirror_mode": {
    "name": "ipython",
    "version": 3
   },
   "file_extension": ".py",
   "mimetype": "text/x-python",
   "name": "python",
   "nbconvert_exporter": "python",
   "pygments_lexer": "ipython3",
   "version": "3.6.8"
  }
 },
 "nbformat": 4,
 "nbformat_minor": 2
}
